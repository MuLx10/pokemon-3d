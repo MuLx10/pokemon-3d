{
 "cells": [
  {
   "cell_type": "markdown",
   "metadata": {},
   "source": [
    "# Rendering Pokémon Data in 3D With Plotly\n",
    "\n",
    "by Max Woolf (@minimaxir)\n",
    "\n",
    "*This notebook is licensed under the MIT License. If you use the code or data visualization designs contained within this notebook, it would be greatly appreciated if proper attribution is given back to this notebook and/or myself. Thanks! :)*"
   ]
  },
  {
   "cell_type": "code",
   "execution_count": 3,
   "metadata": {
    "collapsed": false
   },
   "outputs": [
    {
     "name": "stdout",
     "output_type": "stream",
     "text": [
      "   id                                       pca_features\n",
      "0   1  [-1.23288451991,1.25751301158,-0.154036296149,...\n",
      "1   2  [-1.25876948186,1.20488144835,-0.0856727220402...\n",
      "2   3  [-1.86888535992,1.10924763187,0.233794649552,-...\n",
      "3   4  [-5.5015619452,1.63057365516,1.16733920449,-2....\n",
      "4   5  [-5.36193529818,1.750917732,1.16426992864,-2.6...\n",
      "5   6  [-5.73002790529,1.6082049465,1.48118672493,-2....\n",
      "6   7  [-5.37877428895,1.59894486609,-3.62901043204,-...\n",
      "7   8  [-5.31107974746,1.57686776226,-3.24631491838,-...\n",
      "8   9  [-6.27443209163,1.57820192626,-2.7857660322,0....\n",
      "9  10  [0.166795762526,-0.134710812065,0.033508421016...\n",
      "\n",
      "[10 rows x 2 columns]\n"
     ]
    }
   ],
   "source": [
    "import pandas as pd\n",
    "\n",
    "df = pd.read_csv('pokemon_pca.csv')\n",
    "print df[0:10]"
   ]
  },
  {
   "cell_type": "markdown",
   "metadata": {},
   "source": [
    "Split the 50 PCA features into separate columns"
   ]
  },
  {
   "cell_type": "code",
   "execution_count": 4,
   "metadata": {
    "collapsed": false,
    "scrolled": true
   },
   "outputs": [
    {
     "name": "stdout",
     "output_type": "stream",
     "text": [
      "         0         1         2         3         4         5         6   \\\n",
      "0 -1.232885  1.257513 -0.154036 -4.462953  2.949458 -0.061759 -1.821282   \n",
      "1 -1.258769  1.204881 -0.085673 -4.173804  2.705234  0.026046 -1.802777   \n",
      "2 -1.868885  1.109248  0.233795 -3.873805  2.857019  0.704600 -2.314641   \n",
      "3 -5.501562  1.630574  1.167339 -2.732808 -1.072408  0.795293 -0.984745   \n",
      "4 -5.361935  1.750918  1.164270 -2.683356 -0.862958  0.575582 -0.910651   \n",
      "5 -5.730028  1.608205  1.481187 -2.952475 -2.066053  1.758801 -2.425852   \n",
      "6 -5.378774  1.598945 -3.629010 -0.296878  0.657976 -1.027818 -1.448678   \n",
      "7 -5.311080  1.576868 -3.246315 -0.424035  0.625853 -0.880972 -1.390879   \n",
      "8 -6.274432  1.578202 -2.785766  0.340570  0.726097  0.069230 -2.196737   \n",
      "9  0.166796 -0.134711  0.033508 -0.320916  0.125463  0.100083  0.033249   \n",
      "\n",
      "         7         8         9         10        11        12        13  \\\n",
      "0  1.412679 -3.568611  0.597976  0.109155  0.942337  1.429673 -0.622190   \n",
      "1  1.305795 -3.386331  0.650634  0.082675  0.822242  1.297215 -0.478854   \n",
      "2  1.807217 -3.806496  0.774567 -0.329381  1.421486  1.205622 -0.125984   \n",
      "3  1.185091 -1.723719 -1.480221 -1.846167 -2.018398  0.911803 -0.599485   \n",
      "4  1.146585 -1.506817 -1.397843 -1.862010 -2.107132  0.827228 -0.793955   \n",
      "5  2.769885 -1.404075 -1.353977 -2.265030 -0.966522  0.428746 -0.786465   \n",
      "6  0.764912 -0.951732 -0.157175 -0.100178  0.254966  1.487128 -0.687434   \n",
      "7  0.800300 -1.016684 -0.014327 -0.388728  0.341938  1.436970 -0.639174   \n",
      "8  1.256876 -1.348630  0.264908 -1.087924  1.056993  1.423404 -0.193785   \n",
      "9  0.034687  0.202190  0.359893 -0.180599 -0.203488 -0.162702 -0.148449   \n",
      "\n",
      "         14        15        16        17        18        19      \n",
      "0 -1.278335  1.579584 -0.664647  0.937370  0.609420  1.577591 ...  \n",
      "1 -1.431230  1.460992 -0.693323  0.821724  0.676072  1.638229 ...  \n",
      "2 -1.724743  0.802025 -0.496478  0.466078  0.207983  1.810283 ...  \n",
      "3 -0.293749  2.488069 -1.119588  0.895336  1.473920  1.511042 ...  \n",
      "4 -0.605783  2.433761 -0.891568  1.109293  1.110849  1.579189 ...  \n",
      "5 -0.791991  2.141837 -0.836876  0.603857  0.549527  1.719667 ...  \n",
      "6 -0.980968  1.912670 -1.221784 -0.381118  1.372106  1.431523 ...  \n",
      "7 -0.910413  1.817360 -0.888778 -0.488521  1.391065  1.485240 ...  \n",
      "8 -1.215016  1.204276 -0.803058 -0.896487  1.024940  1.767690 ...  \n",
      "9 -0.055188 -0.575450 -0.292093 -0.560246  0.087611 -0.040324 ...  \n",
      "\n",
      "[10 rows x 50 columns]\n"
     ]
    }
   ],
   "source": [
    "# http://stackoverflow.com/a/29370709\n",
    "# [map(lambda x: 'pc' + str(x) ,xrange(50))]\n",
    "#zip(*df['pca_features'].map(lambda x: x.strip('[]').split(',')))\n",
    "\n",
    "from pandas import *\n",
    "\n",
    "df_pca = df['pca_features'].str[1:-1].str.split(',').apply(pd.Series).astype(float)\n",
    "\n",
    "#df_pca['id'] = df['id']\n",
    "\n",
    "#print df['pca_features'].str[1:-1].str.split(',').apply(pd.Series).astype(float)\n",
    "\n",
    "print df_pca[0:10]"
   ]
  },
  {
   "cell_type": "code",
   "execution_count": 5,
   "metadata": {
    "collapsed": false
   },
   "outputs": [
    {
     "name": "stdout",
     "output_type": "stream",
     "text": [
      "[[  9.06698516 -58.91983405  56.96302973]\n",
      " [  9.34021358 -58.54332754  56.83858773]\n",
      " [ 10.27025974 -58.98115704  56.33810829]\n",
      " ..., \n",
      " [  8.48132973   3.557443    56.01212604]\n",
      " [ -2.29944518  58.67083507  31.62355597]\n",
      " [ 48.23427541 -16.31896487  13.59286847]]\n"
     ]
    }
   ],
   "source": [
    "# https://github.com/danielfrg/tsne\n",
    "\n",
    "from tsne import bh_sne\n",
    "pca_3d = bh_sne(df_pca.values, d=3, perplexity=5., theta=0.0)   # completes in ~10 seconds\n",
    "\n",
    "print pca_3d"
   ]
  },
  {
   "cell_type": "markdown",
   "metadata": {},
   "source": [
    "Prototype 3D chart in `matplotlib`."
   ]
  },
  {
   "cell_type": "code",
   "execution_count": 6,
   "metadata": {
    "collapsed": false
   },
   "outputs": [],
   "source": [
    "# http://matplotlib.org/examples/mplot3d/scatter3d_demo.html\n",
    "\n",
    "from mpl_toolkits.mplot3d import Axes3D\n",
    "import matplotlib.pyplot as plt\n",
    "\n",
    "fig = plt.figure()\n",
    "ax = fig.add_subplot(111, projection='3d')\n",
    "\n",
    "ax.scatter(pca_3d[:,0], pca_3d[:,1], pca_3d[:,2])\n",
    "\n",
    "ax.set_xlabel('X Label')\n",
    "ax.set_ylabel('Y Label')\n",
    "ax.set_zlabel('Z Label')\n",
    "\n",
    "fig.savefig(\"pokemon_pca_test.png\")"
   ]
  },
  {
   "cell_type": "markdown",
   "metadata": {},
   "source": [
    "![](pokemon_pca_test.png)"
   ]
  },
  {
   "cell_type": "markdown",
   "metadata": {},
   "source": [
    "## Plotly\n",
    "\n",
    "Based on the official [3D Clustering](https://plot.ly/python/3d-point-clustering/) tutorial."
   ]
  },
  {
   "cell_type": "code",
   "execution_count": 151,
   "metadata": {
    "collapsed": false
   },
   "outputs": [
    {
     "name": "stdout",
     "output_type": "stream",
     "text": [
      "            x          y          z\n",
      "0    9.066985 -58.919834  56.963030\n",
      "1    9.340214 -58.543328  56.838588\n",
      "2   10.270260 -58.981157  56.338108\n",
      "3   54.954869  -0.859728  46.132409\n",
      "4   54.806082  -0.826325  46.299707\n",
      "5   55.869840  -0.123644  46.561305\n",
      "6    5.320937  -1.948512 -73.548244\n",
      "7    5.641952  -2.042390 -73.338820\n",
      "8    6.575312  -2.306488 -72.760295\n",
      "9  -71.424219  17.908584  45.587366\n",
      "10 -67.754186  17.425071  46.059058\n",
      "\n",
      "[11 rows x 3 columns]\n"
     ]
    }
   ],
   "source": [
    "df_3d = DataFrame(pca_3d)\n",
    "df_3d.columns = ['x','y','z']\n",
    "\n",
    "print df_3d.head(11)"
   ]
  },
  {
   "cell_type": "code",
   "execution_count": 152,
   "metadata": {
    "collapsed": false,
    "scrolled": true
   },
   "outputs": [
    {
     "name": "stdout",
     "output_type": "stream",
     "text": [
      "    id  identifier   type          x          y          z\n",
      "0    1   Bulbasaur  grass   9.066985 -58.919834  56.963030\n",
      "1    2     Ivysaur  grass   9.340214 -58.543328  56.838588\n",
      "2    3    Venusaur  grass  10.270260 -58.981157  56.338108\n",
      "3    4  Charmander   fire  54.954869  -0.859728  46.132409\n",
      "4    5  Charmeleon   fire  54.806082  -0.826325  46.299707\n",
      "5    6   Charizard   fire  55.869840  -0.123644  46.561305\n",
      "6    7    Squirtle  water   5.320937  -1.948512 -73.548244\n",
      "7    8   Wartortle  water   5.641952  -2.042390 -73.338820\n",
      "8    9   Blastoise  water   6.575312  -2.306488 -72.760295\n",
      "9   10    Caterpie    bug -71.424219  17.908584  45.587366\n",
      "10  11     Metapod    bug -67.754186  17.425071  46.059058\n",
      "11  12  Butterfree    bug -28.071288 -50.971519  -8.339898\n",
      "\n",
      "[12 rows x 6 columns]\n"
     ]
    },
    {
     "name": "stderr",
     "output_type": "stream",
     "text": [
      "/Library/Python/2.7/site-packages/ipykernel/__main__.py:3: SettingWithCopyWarning:\n",
      "\n",
      "A value is trying to be set on a copy of a slice from a DataFrame.\n",
      "Try using .loc[row_index,col_indexer] = value instead\n",
      "\n"
     ]
    }
   ],
   "source": [
    "df_pokemon = pd.read_csv(\"pokemon_data/pokemon.csv\")\n",
    "df_pokemon = df_pokemon[(df_pokemon.id < 10000)]\n",
    "df_pokemon['identifier'] = df_pokemon['identifier'].str.title()\n",
    "\n",
    "df_types = pd.read_csv(\"pokemon_data/pokemon_types.csv\")\n",
    "df_types.columns = ['id', 'type_id', 'slot']\n",
    "df_types = df_types[(df_types.slot == 1)]\n",
    "\n",
    "df_type_names = pd.read_csv(\"pokemon_data/types.csv\")\n",
    "df_type_names.columns = ['type_id','type','generation_id','damage_class_id']\n",
    "\n",
    "#print df_types.head()\n",
    "#print df_type_names.head()\n",
    "\n",
    "df_types = df_types.merge(df_type_names, on='type_id')\n",
    "df_pokemon = df_pokemon.merge(df_types, on='id')\n",
    "df_plot = concat([df_pokemon, df_3d], axis=1)\n",
    "df_plot = df_plot[['id', 'identifier', 'type', 'x', 'y', 'z']]\n",
    "\n",
    "print df_plot.head(12)"
   ]
  },
  {
   "cell_type": "markdown",
   "metadata": {},
   "source": [
    "Add a color palette manually for each type. Colors derived from palette used on [Bulbapedia](http://bulbapedia.bulbagarden.net/wiki/Type)."
   ]
  },
  {
   "cell_type": "code",
   "execution_count": 154,
   "metadata": {
    "collapsed": false,
    "scrolled": true
   },
   "outputs": [
    {
     "name": "stdout",
     "output_type": "stream",
     "text": [
      "           0        1\n",
      "0     normal  #A8A878\n",
      "1       fire  #F08030\n",
      "2   fighting  #C03028\n",
      "3      water  #6890F0\n",
      "4     flying  #A890F0\n",
      "5      grass  #78C850\n",
      "6     poison  #A040A0\n",
      "7   electric  #F8D030\n",
      "8     ground  #E0C068\n",
      "9    psychic  #F85888\n",
      "10      rock  #B8A038\n",
      "11       ice  #98D8D8\n",
      "12       bug  #A8B820\n",
      "13    dragon  #7038F8\n",
      "14     ghost  #705898\n",
      "15      dark  #705848\n",
      "16     steel  #B8B8D0\n",
      "17     fairy  #EE99AC\n",
      "\n",
      "[18 rows x 2 columns]\n",
      "     id  identifier   type          x          y          z typecolor\n",
      "0     1   Bulbasaur  grass   9.066985 -58.919834  56.963030   #78C850\n",
      "1     2     Ivysaur  grass   9.340214 -58.543328  56.838588   #78C850\n",
      "2     3    Venusaur  grass  10.270260 -58.981157  56.338108   #78C850\n",
      "66    4  Charmander   fire  54.954869  -0.859728  46.132409   #F08030\n",
      "67    5  Charmeleon   fire  54.806082  -0.826325  46.299707   #F08030\n",
      "68    6   Charizard   fire  55.869840  -0.123644  46.561305   #F08030\n",
      "113   7    Squirtle  water   5.320937  -1.948512 -73.548244   #6890F0\n",
      "114   8   Wartortle  water   5.641952  -2.042390 -73.338820   #6890F0\n",
      "115   9   Blastoise  water   6.575312  -2.306488 -72.760295   #6890F0\n",
      "218  10    Caterpie    bug -71.424219  17.908584  45.587366   #A8B820\n",
      "219  11     Metapod    bug -67.754186  17.425071  46.059058   #A8B820\n",
      "220  12  Butterfree    bug -28.071288 -50.971519  -8.339898   #A8B820\n",
      "\n",
      "[12 rows x 7 columns]\n"
     ]
    }
   ],
   "source": [
    "df_palette = DataFrame([\n",
    "            ['normal', '#A8A878'],\n",
    "            ['fire', '#F08030'],\n",
    "            ['fighting','#C03028'],\n",
    "            ['water','#6890F0'],\n",
    "            ['flying','#A890F0'],\n",
    "            ['grass','#78C850'],\n",
    "            ['poison', '#A040A0'],\n",
    "            ['electric', '#F8D030'],\n",
    "            ['ground', '#E0C068'],\n",
    "            ['psychic', '#F85888'],\n",
    "            ['rock', '#B8A038'],\n",
    "            ['ice', '#98D8D8'],\n",
    "            ['bug', '#A8B820'],\n",
    "            ['dragon', '#7038F8'],\n",
    "            ['ghost', '#705898'],\n",
    "            ['dark', '#705848'],\n",
    "            ['steel', '#B8B8D0'],\n",
    "            ['fairy', '#EE99AC']\n",
    "        ])\n",
    "\n",
    "print df_palette\n",
    "\n",
    "df_palette.columns = ['type', 'typecolor']\n",
    "df_plot = df_plot.merge(df_palette, on='type').sort('id')\n",
    "\n",
    "print df_plot.head(12)"
   ]
  },
  {
   "cell_type": "markdown",
   "metadata": {},
   "source": [
    "Special case: Normal/Flying Pokemon should be classified as Flying Pokemon, as the omission is notable."
   ]
  },
  {
   "cell_type": "code",
   "execution_count": 155,
   "metadata": {
    "collapsed": false
   },
   "outputs": [
    {
     "name": "stdout",
     "output_type": "stream",
     "text": [
      "set([519, 520, 521, 396, 397, 398, 16, 17, 18, 276, 277, 22, 163, 164, 441, 333, 83, 84, 85, 627, 628, 21, 661])\n",
      "     id  identifier    type          x          y          z typecolor\n",
      "0     1   Bulbasaur   grass   9.066985 -58.919834  56.963030   #78C850\n",
      "1     2     Ivysaur   grass   9.340214 -58.543328  56.838588   #78C850\n",
      "2     3    Venusaur   grass  10.270260 -58.981157  56.338108   #78C850\n",
      "66    4  Charmander    fire  54.954869  -0.859728  46.132409   #F08030\n",
      "67    5  Charmeleon    fire  54.806082  -0.826325  46.299707   #F08030\n",
      "68    6   Charizard    fire  55.869840  -0.123644  46.561305   #F08030\n",
      "113   7    Squirtle   water   5.320937  -1.948512 -73.548244   #6890F0\n",
      "114   8   Wartortle   water   5.641952  -2.042390 -73.338820   #6890F0\n",
      "115   9   Blastoise   water   6.575312  -2.306488 -72.760295   #6890F0\n",
      "218  10    Caterpie     bug -71.424219  17.908584  45.587366   #A8B820\n",
      "219  11     Metapod     bug -67.754186  17.425071  46.059058   #A8B820\n",
      "220  12  Butterfree     bug -28.071288 -50.971519  -8.339898   #A8B820\n",
      "221  13      Weedle     bug -68.797403  17.521477  43.999620   #A8B820\n",
      "222  14      Kakuna     bug -67.500456  17.701758  44.873235   #A8B820\n",
      "223  15    Beedrill     bug -25.085944 -46.907314 -10.937839   #A8B820\n",
      "281  16      Pidgey  flying -40.282916  37.361798 -21.928044   #A8A878\n",
      "282  17   Pidgeotto  flying -39.725894  37.651372 -22.141271   #A8A878\n",
      "283  18     Pidgeot  flying -39.131326  37.134323 -22.715304   #A8A878\n",
      "284  19     Rattata  normal  17.795553  24.254481 -10.001421   #A8A878\n",
      "285  20    Raticate  normal  17.700369  24.256781  -9.936138   #A8A878\n",
      "\n",
      "[20 rows x 7 columns]\n"
     ]
    }
   ],
   "source": [
    "df_normfly = pd.read_csv(\"pokemon_data/pokemon_types.csv\")\n",
    "df_normfly = df_normfly[(df_normfly.pokemon_id < 10000)]\n",
    "normal1 = set(df_normfly.query(\"type_id == 1 & slot == 1\")['pokemon_id'])\n",
    "flying2 = set(df_normfly.query(\"type_id == 3 & slot == 2\")['pokemon_id'])\n",
    "              \n",
    "normfly = normal1.intersection(flying2)\n",
    "              \n",
    "print normfly\n",
    "\n",
    "for pokemon_id in normfly:\n",
    "    df_plot.loc[df_plot.id == pokemon_id, 'type'] = 'flying'\n",
    "\n",
    "print df_plot.head(20)"
   ]
  },
  {
   "cell_type": "code",
   "execution_count": 156,
   "metadata": {
    "collapsed": false
   },
   "outputs": [],
   "source": [
    "# Checkpoint, for safety\n",
    "df_plot.to_csv('pokemon_pca_plot.csv', index=False)"
   ]
  },
  {
   "cell_type": "code",
   "execution_count": 157,
   "metadata": {
    "collapsed": false,
    "scrolled": true
   },
   "outputs": [
    {
     "data": {
      "text/plain": [
       "'file:///Users/maxwoolf/Dropbox/Spark/pokemon-3d-1.html'"
      ]
     },
     "execution_count": 157,
     "metadata": {},
     "output_type": "execute_result"
    }
   ],
   "source": [
    "import plotly.plotly as py\n",
    "import plotly.graph_objs as go\n",
    "from plotly.offline import plot\n",
    "\n",
    "scatter = dict(\n",
    "    mode = \"markers\",\n",
    "    name = \"y\",\n",
    "    type = \"scatter3d\",\n",
    "    text = df_plot['identifier'],\n",
    "    hoverinfo='text',\n",
    "    #color=df_plot['typecolor'],\n",
    "    showlegend = True,\n",
    "    legendgroup = df_plot['typecolor'],\n",
    "    x = df_plot['x'], y = df_plot['y'], z = df_plot['z'],\n",
    "    marker = dict( size=10, color=df_plot['typecolor'], \n",
    "                 line = dict(\n",
    "                    width = 3,\n",
    "                    \n",
    "        ))\n",
    ")\n",
    "\n",
    "empty_axis = dict(zeroline=False, showaxeslabels=False, showticklabels=False, title='')\n",
    "\n",
    "clusters = dict(\n",
    "    alphahull = 10,\n",
    "    name = \"y\",\n",
    "    opacity = 0.1,\n",
    "    color = \"#1a1a1a\",\n",
    "    type = \"mesh3d\",\n",
    "    hoverinfo='none',\n",
    "    x = df_plot['x'], y = df_plot['y'], z = df_plot['z']\n",
    ")\n",
    "layout = dict(\n",
    "    #title = \n",
    "    scene = dict(\n",
    "        xaxis = empty_axis,\n",
    "        yaxis = empty_axis,\n",
    "        zaxis = empty_axis\n",
    "    ),\n",
    "       margin = dict(     \n",
    "        l=0,\n",
    "        r=0,\n",
    "        t=0,\n",
    "        b=0\n",
    "        ),\n",
    "    height=600,\n",
    "    showlegend=True\n",
    ")\n",
    "\n",
    "#fig = dict( data=[scatter, clusters], layout=layout )\n",
    "fig = dict( data=[scatter], layout=layout )\n",
    "\n",
    "# Use py.iplot() for IPython notebook\n",
    "plot(fig, filename = 'pokemon-3d-1.html', auto_open=False)"
   ]
  },
  {
   "cell_type": "markdown",
   "metadata": {},
   "source": [
    "The correct way to implement the plot is to render each `trace` separately. This fixes bot the font color issue and the legend issue."
   ]
  },
  {
   "cell_type": "code",
   "execution_count": 158,
   "metadata": {
    "collapsed": false
   },
   "outputs": [
    {
     "data": {
      "text/plain": [
       "'file:///Users/maxwoolf/Dropbox/Spark/pokemon-3d-2.html'"
      ]
     },
     "execution_count": 158,
     "metadata": {},
     "output_type": "execute_result"
    }
   ],
   "source": [
    "plots_list = []\n",
    "\n",
    "for idx, (pokemon_type, color) in df_palette.iterrows():\n",
    "    #print pokemon_type\n",
    "\n",
    "    df_filter = df_plot[df_plot['type'].str.contains(pokemon_type)]\n",
    "    \n",
    "    scatter = dict(\n",
    "        mode = \"markers\",\n",
    "        name = pokemon_type.title(),\n",
    "        type = \"scatter3d\",\n",
    "        text =  df_filter['identifier'],\n",
    "        hoverinfo='text',\n",
    "        #color=df_plot['typecolor'],\n",
    "        showlegend = True,\n",
    "        #legendgroup = pokemon_type.title(),\n",
    "        x =  df_filter['x'], y =  df_filter['y'], z = df_filter['z'],\n",
    "        marker = dict( size=10, color=color, \n",
    "                     line = dict(\n",
    "                        width = 3,\n",
    "\n",
    "            ))\n",
    "    )\n",
    "    \n",
    "    plots_list.append(scatter)\n",
    "    \n",
    "#    clusters = dict(\n",
    "#    alphahull = 5,\n",
    "#    name = pokemon_type.title(),\n",
    "#    opacity = 0.1,\n",
    "#    color = color,\n",
    "#    type = \"mesh3d\",\n",
    "#    hoverinfo='none',\n",
    "#    legendgroup = pokemon_type.title(),\n",
    "#    x =  df_filter['x'], y =  df_filter['y'], z = df_filter['z'],\n",
    "#        )\n",
    "#    \n",
    "#    plots_list.append(clusters)\n",
    "\n",
    "layout = dict(\n",
    "    #title = \n",
    "    scene = dict(\n",
    "        xaxis = empty_axis,\n",
    "        yaxis = empty_axis,\n",
    "        zaxis = empty_axis\n",
    "    ),\n",
    "       margin = dict(     \n",
    "        l=0,\n",
    "        r=0,\n",
    "        t=0,\n",
    "        b=0\n",
    "        ),\n",
    "    font=dict(\n",
    "        family='Source Sans Pro, Arial, sans-serif',\n",
    "    ),\n",
    "    height=600,\n",
    "    showlegend=True\n",
    ")\n",
    "\n",
    "fig = dict( data=plots_list, layout=layout )\n",
    "\n",
    "# Use py.iplot() for IPython notebook\n",
    "plot(fig, filename = 'pokemon-3d-2.html', auto_open=False, show_link=False)"
   ]
  },
  {
   "cell_type": "markdown",
   "metadata": {},
   "source": [
    "Use [hack from Stack Overflow](http://stackoverflow.com/a/36610966) to remove plot.ly buttons."
   ]
  },
  {
   "cell_type": "code",
   "execution_count": 159,
   "metadata": {
    "collapsed": true
   },
   "outputs": [],
   "source": [
    "HTMLlink = 'pokemon-3d-2.html'\n",
    "\n",
    "with open(HTMLlink, 'r') as file:\n",
    "    tempHTML = file.read()\n",
    "# Replace the target strings\n",
    "tempHTML = tempHTML.replace('displaylogo:!0', 'displaylogo:!1')\n",
    "tempHTML = tempHTML.replace('modeBarButtonsToRemove:[]', 'modeBarButtonsToRemove:[\"sendDataToCloud\"]')\n",
    "with open(HTMLlink, 'w') as file:\n",
    "    file.write(tempHTML)\n",
    "del tempHTML"
   ]
  },
  {
   "cell_type": "markdown",
   "metadata": {},
   "source": [
    "Final plots for real. Need 3:\n",
    "\n",
    "* Plot with light-blue background for post, not standalone\n",
    "* Plot with fill screen, standalone\n",
    "* Plot w/ clusters standalone"
   ]
  },
  {
   "cell_type": "code",
   "execution_count": 160,
   "metadata": {
    "collapsed": false
   },
   "outputs": [
    {
     "data": {
      "text/plain": [
       "'file:///Users/maxwoolf/Dropbox/Spark/pokemon-3d-standalone.html'"
      ]
     },
     "execution_count": 160,
     "metadata": {},
     "output_type": "execute_result"
    }
   ],
   "source": [
    "plots_list = []\n",
    "\n",
    "for idx, (pokemon_type, color) in df_palette.iterrows():\n",
    "    #print pokemon_type\n",
    "\n",
    "    df_filter = df_plot[df_plot['type'].str.contains(pokemon_type)]\n",
    "    \n",
    "    scatter = dict(\n",
    "        mode = \"markers\",\n",
    "        name = pokemon_type.title(),\n",
    "        type = \"scatter3d\",\n",
    "        text =  df_filter['identifier'],\n",
    "        hoverinfo='text',\n",
    "        #color=df_plot['typecolor'],\n",
    "        showlegend = True,\n",
    "        #legendgroup = pokemon_type.title(),\n",
    "        x =  df_filter['x'], y =  df_filter['y'], z = df_filter['z'],\n",
    "        marker = dict( size=10, color=color, \n",
    "                     line = dict(\n",
    "                        width = 3,\n",
    "\n",
    "            ))\n",
    "    )\n",
    "    \n",
    "    plots_list.append(scatter)\n",
    "    \n",
    "\n",
    "layout_web = dict(\n",
    "    #title = \n",
    "    scene = dict(\n",
    "        xaxis = empty_axis,\n",
    "        yaxis = empty_axis,\n",
    "        zaxis = empty_axis,\n",
    "        camera = dict(eye=dict(x=0.75, y=0.75, z=0.75))\n",
    "    ),\n",
    "       margin = dict(     \n",
    "        l=0,\n",
    "        r=0,\n",
    "        t=0,\n",
    "        b=0\n",
    "        ),\n",
    "    font=dict(\n",
    "        family='Source Sans Pro, Arial, sans-serif',\n",
    "    ),\n",
    "    \n",
    "    height=400,\n",
    "    showlegend=True,\n",
    "    paper_bgcolor='#f7f8fa',\n",
    "    plot_bgcolor='#f7f8fa'\n",
    ")\n",
    "\n",
    "layout_standalone = dict(\n",
    "    #title = \n",
    "    scene = dict(\n",
    "        xaxis = empty_axis,\n",
    "        yaxis = empty_axis,\n",
    "        zaxis = empty_axis\n",
    "    ),\n",
    "       margin = dict(     \n",
    "        l=0,\n",
    "        r=0,\n",
    "        t=0,\n",
    "        b=0\n",
    "        ),\n",
    "    font=dict(\n",
    "        family='Source Sans Pro, Arial, sans-serif',\n",
    "    ),\n",
    "    showlegend=True\n",
    ")\n",
    "\n",
    "\n",
    "\n",
    "fig = dict( data=plots_list, layout=layout_web)\n",
    "plot(fig, filename = 'pokemon-3d-web.html', auto_open=False, show_link=False, include_plotlyjs=False)\n",
    "\n",
    "fig = dict( data=plots_list, layout=layout_standalone)\n",
    "plot(fig, filename = 'pokemon-3d-standalone.html', auto_open=False, show_link=False)"
   ]
  },
  {
   "cell_type": "code",
   "execution_count": 161,
   "metadata": {
    "collapsed": false
   },
   "outputs": [
    {
     "data": {
      "text/plain": [
       "'file:///Users/maxwoolf/Dropbox/Spark/pokemon-3d-standalone-cluster.html'"
      ]
     },
     "execution_count": 161,
     "metadata": {},
     "output_type": "execute_result"
    }
   ],
   "source": [
    "plots_list = []\n",
    "\n",
    "for idx, (pokemon_type, color) in df_palette.iterrows():\n",
    "    #print pokemon_type\n",
    "\n",
    "    df_filter = df_plot[df_plot['type'].str.contains(pokemon_type)]\n",
    "    \n",
    "    scatter = dict(\n",
    "        mode = \"markers\",\n",
    "        name = pokemon_type.title(),\n",
    "        type = \"scatter3d\",\n",
    "        text =  df_filter['identifier'],\n",
    "        hoverinfo='text',\n",
    "        #color=df_plot['typecolor'],\n",
    "        showlegend = True,\n",
    "        #legendgroup = pokemon_type.title(),\n",
    "        x =  df_filter['x'], y =  df_filter['y'], z = df_filter['z'],\n",
    "        marker = dict( size=10, color=color, \n",
    "                     line = dict(\n",
    "                        width = 3,\n",
    "\n",
    "            ))\n",
    "    )\n",
    "    \n",
    "    plots_list.append(scatter)\n",
    "    \n",
    "    clusters = dict(\n",
    "    alphahull = 5,\n",
    "    name = pokemon_type.title(),\n",
    "    opacity = 0.1,\n",
    "    color = color,\n",
    "    type = \"mesh3d\",\n",
    "    hoverinfo='none',\n",
    "    legendgroup = pokemon_type.title(),\n",
    "    x =  df_filter['x'], y =  df_filter['y'], z = df_filter['z'],\n",
    "        )\n",
    "    \n",
    "    plots_list.append(clusters)\n",
    "\n",
    "fig = dict( data=plots_list, layout=layout_standalone)\n",
    "plot(fig, filename = 'pokemon-3d-standalone-cluster.html', auto_open=False, show_link=False)"
   ]
  },
  {
   "cell_type": "code",
   "execution_count": 150,
   "metadata": {
    "collapsed": false
   },
   "outputs": [],
   "source": [
    "for HTMLlink in ['pokemon-3d-web.html', 'pokemon-3d-standalone.html', 'pokemon-3d-standalone-cluster.html']:\n",
    "    with open(HTMLlink, 'r') as file:\n",
    "        tempHTML = file.read()\n",
    "    # Replace the target strings\n",
    "    tempHTML = tempHTML.replace('displaylogo:!0', 'displaylogo:!1')\n",
    "    tempHTML = tempHTML.replace('modeBarButtonsToRemove:[]', 'modeBarButtonsToRemove:[\"sendDataToCloud\"]')\n",
    "    with open(HTMLlink, 'w') as file:\n",
    "        file.write(tempHTML)\n",
    "    del tempHTML"
   ]
  },
  {
   "cell_type": "markdown",
   "metadata": {},
   "source": [
    "# The MIT License (MIT)\n",
    "\n",
    "Copyright (c) 2016 Max Woolf\n",
    "\n",
    "Permission is hereby granted, free of charge, to any person obtaining a copy of this software and associated documentation files (the \"Software\"), to deal in the Software without restriction, including without limitation the rights to use, copy, modify, merge, publish, distribute, sublicense, and/or sell copies of the Software, and to permit persons to whom the Software is furnished to do so, subject to the following conditions:\n",
    "\n",
    "The above copyright notice and this permission notice shall be included in all copies or substantial portions of the Software.\n",
    "\n",
    "THE SOFTWARE IS PROVIDED \"AS IS\", WITHOUT WARRANTY OF ANY KIND, EXPRESS OR IMPLIED, INCLUDING BUT NOT LIMITED TO THE WARRANTIES OF MERCHANTABILITY, FITNESS FOR A PARTICULAR PURPOSE AND NONINFRINGEMENT. IN NO EVENT SHALL THE AUTHORS OR COPYRIGHT HOLDERS BE LIABLE FOR ANY CLAIM, DAMAGES OR OTHER LIABILITY, WHETHER IN AN ACTION OF CONTRACT, TORT OR OTHERWISE, ARISING FROM, OUT OF OR IN CONNECTION WITH THE SOFTWARE OR THE USE OR OTHER DEALINGS IN THE SOFTWARE."
   ]
  }
 ],
 "metadata": {
  "kernelspec": {
   "display_name": "Python 2",
   "language": "python",
   "name": "python2"
  },
  "language_info": {
   "codemirror_mode": {
    "name": "ipython",
    "version": 2
   },
   "file_extension": ".py",
   "mimetype": "text/x-python",
   "name": "python",
   "nbconvert_exporter": "python",
   "pygments_lexer": "ipython2",
   "version": "2.7.10"
  }
 },
 "nbformat": 4,
 "nbformat_minor": 0
}
